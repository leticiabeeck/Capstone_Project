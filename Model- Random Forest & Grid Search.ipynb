{
 "cells": [
  {
   "cell_type": "code",
   "execution_count": 1,
   "metadata": {},
   "outputs": [],
   "source": [
    "import pandas as pd\n",
    "import numpy as np"
   ]
  },
  {
   "cell_type": "code",
   "execution_count": 2,
   "metadata": {},
   "outputs": [],
   "source": [
    "df=pd.read_pickle('Cleaned_ed.pkl')"
   ]
  },
  {
   "cell_type": "markdown",
   "metadata": {},
   "source": [
    "# MODELING- Random Forest"
   ]
  },
  {
   "cell_type": "code",
   "execution_count": 3,
   "metadata": {},
   "outputs": [
    {
     "name": "stderr",
     "output_type": "stream",
     "text": [
      "/Users/leticiabeeck/anaconda3/envs/tensorflow/lib/python3.6/site-packages/h5py/__init__.py:36: FutureWarning: Conversion of the second argument of issubdtype from `float` to `np.floating` is deprecated. In future, it will be treated as `np.float64 == np.dtype(float).type`.\n",
      "  from ._conv import register_converters as _register_converters\n",
      "Using TensorFlow backend.\n"
     ]
    }
   ],
   "source": [
    "from sklearn.model_selection import train_test_split\n"
   ]
  },
  {
   "cell_type": "code",
   "execution_count": 4,
   "metadata": {},
   "outputs": [],
   "source": [
    "binary = {'Meeting Target':1,'Exceeding Target':1,\n",
    "           'Not Meeting Target':0,'Approaching Target':0}\n",
    "df['Student Achievement Rating'] = df['Student Achievement Rating'].map(binary)"
   ]
  },
  {
   "cell_type": "code",
   "execution_count": 5,
   "metadata": {},
   "outputs": [
    {
     "data": {
      "text/plain": [
       "1    589\n",
       "0    206\n",
       "Name: Student Achievement Rating, dtype: int64"
      ]
     },
     "execution_count": 5,
     "metadata": {},
     "output_type": "execute_result"
    }
   ],
   "source": [
    "df['Student Achievement Rating'].value_counts()"
   ]
  },
  {
   "cell_type": "markdown",
   "metadata": {},
   "source": [
    "## Train Test Split "
   ]
  },
  {
   "cell_type": "code",
   "execution_count": 6,
   "metadata": {},
   "outputs": [],
   "source": [
    "df['City'] = [value if value in df['City'].value_counts().index[:4] else 'Other' for value in df['City']]"
   ]
  },
  {
   "cell_type": "code",
   "execution_count": 7,
   "metadata": {},
   "outputs": [],
   "source": [
    "cats= ['City',\n",
    "       'Rigorous Instruction Rating', 'Collaborative Teachers Rating',\n",
    "       'Supportive Environment Rating', 'Effective School Leadership Rating',\n",
    "       'Strong Family-Community Ties Rating', 'Trust Rating']\n",
    "df.drop(['School Name', 'Location Code', 'Address (Full)'], axis=1, inplace=True)"
   ]
  },
  {
   "cell_type": "code",
   "execution_count": 8,
   "metadata": {},
   "outputs": [],
   "source": [
    "X = df.drop('Student Achievement Rating',axis=1)\n",
    "y = df['Student Achievement Rating']\n",
    "\n",
    "X_train, X_test, y_train, y_test = train_test_split(X, y, test_size=0.20)\n",
    "\n",
    "\n",
    "X_train = pd.get_dummies(X_train, columns=cats, drop_first=True)\n",
    "X_test = pd.get_dummies(X_test, columns=cats, drop_first=True)"
   ]
  },
  {
   "cell_type": "code",
   "execution_count": 9,
   "metadata": {},
   "outputs": [
    {
     "data": {
      "text/plain": [
       "['Collaborative Teachers Rating_Not Meeting Target']"
      ]
     },
     "execution_count": 9,
     "metadata": {},
     "output_type": "execute_result"
    }
   ],
   "source": [
    "[col for col in X_train.columns if col not in X_test.columns]"
   ]
  },
  {
   "cell_type": "code",
   "execution_count": 10,
   "metadata": {},
   "outputs": [],
   "source": [
    "edu_cats = {\n",
    "    \"PK,0K,01,02,03,04,05\"     : \"has_elementary\",\n",
    "    \"PK,0K,01,02,03,04,05,06,07,08\" : \"has_middle_school\",\n",
    "    \"0K,01,02,03,04,05,06,07,08,09,10,11,12\"   : \"has_high_school\",\n",
    "    '0K,01,02,03,04,05': \"has_elementary\",\n",
    "    '0K,01,02,03,04,05,06,07,08':\"has_middle_school\",\n",
    "    '04,05,06,07,08':'has_middle_school',\n",
    "    '03,04,05':'has_elementary',\n",
    "    '0K,01,02,03,04,05,06,07,08,SE':'has_middle_school', \n",
    "    'PK,0K,01,02,03,04,05,06':'has_elementary',\n",
    "    'PK,0K,01,02,03,04,05,SE':'has_elementary',\n",
    "    'PK,0K,01,02,03':'has_elementary', \n",
    "    '04,05':'has_elementary',\n",
    "    '0K,01,02,03,04':'has_elementary', \n",
    "    '0K,01,02,03,04,05,06':'has_elementary', \n",
    "    'PK,0K,01,02':'has_elementary',\n",
    "    'PK,0K,01,02,03,04':'has_elementary', \n",
    "    '02,03,04,05':'has_elementary',\n",
    "    'PK,0K,01,02,03,04,05,07,08':'has_middle_school',\n",
    "    'PK,0K,01,02,03,04,05,06,07,08,SE':'has_middle_school', \n",
    "    '06,07,08':'has_middle_school',\n",
    "    '0K':'pre_school',\n",
    "    '03,04,05,06':'has_elementary',\n",
    "    '0K,01,02,03,04,05,SE':'has_elementary', \n",
    "    '01,05,06,07,08,K':'has_middle_school',\n",
    "    '01,02,03,04,05,06,07,08':'has_middle_school',\n",
    "    '0K,01,02,03,04,05,06,07':'has_middle_school'\n",
    "}\n",
    "\n",
    "X_train['Grade'] = df['Grades'].map(edu_cats)\n",
    "X_test['Grade']=df['Grades'].map(edu_cats)"
   ]
  },
  {
   "cell_type": "code",
   "execution_count": 11,
   "metadata": {},
   "outputs": [],
   "source": [
    "X_train=pd.get_dummies(X_train, columns=['Grade'], drop_first=True)\n",
    "X_test=pd.get_dummies(X_test,columns=['Grade'],drop_first=True)"
   ]
  },
  {
   "cell_type": "code",
   "execution_count": 12,
   "metadata": {},
   "outputs": [],
   "source": [
    "X_train.drop('Grades',axis=1,inplace=True)\n",
    "X_test.drop('Grades',axis=1,inplace=True)"
   ]
  },
  {
   "cell_type": "markdown",
   "metadata": {},
   "source": [
    "# Grid-Searching"
   ]
  },
  {
   "cell_type": "code",
   "execution_count": 13,
   "metadata": {},
   "outputs": [],
   "source": [
    "from sklearn.model_selection import GridSearchCV\n",
    "from sklearn.ensemble import RandomForestClassifier"
   ]
  },
  {
   "cell_type": "code",
   "execution_count": 14,
   "metadata": {},
   "outputs": [
    {
     "data": {
      "text/plain": [
       "GridSearchCV(cv=3, error_score='raise',\n",
       "       estimator=RandomForestClassifier(bootstrap=True, class_weight='balanced',\n",
       "            criterion='gini', max_depth=None, max_features='auto',\n",
       "            max_leaf_nodes=None, min_impurity_decrease=0.0,\n",
       "            min_impurity_split=None, min_samples_leaf=1,\n",
       "            min_samples_split=2, min_weight_fraction_leaf=0.0,\n",
       "            n_estimators=10, n_jobs=-1, oob_score=False, random_state=None,\n",
       "            verbose=0, warm_start=False),\n",
       "       fit_params=None, iid=True, n_jobs=1,\n",
       "       param_grid={'n_estimators': [5, 8, 10, 12], 'max_depth': [25, 30, 27]},\n",
       "       pre_dispatch='2*n_jobs', refit=True, return_train_score='warn',\n",
       "       scoring=None, verbose=0)"
      ]
     },
     "execution_count": 14,
     "metadata": {},
     "output_type": "execute_result"
    }
   ],
   "source": [
    "rf   = RandomForestClassifier(class_weight='balanced', n_jobs=-1)\n",
    "\n",
    "param_grid = {\n",
    "    'n_estimators':[5,8,10,12],\n",
    "    'max_depth':[25,30,27]\n",
    "    \n",
    "    \n",
    "    \n",
    "}\n",
    "\n",
    "grid = GridSearchCV(estimator=rf, param_grid=param_grid,cv=3)\n",
    "\n",
    "grid.fit(X_train,y_train)\n",
    "\n"
   ]
  },
  {
   "cell_type": "code",
   "execution_count": 15,
   "metadata": {
    "scrolled": true
   },
   "outputs": [
    {
     "data": {
      "text/plain": [
       "RandomForestClassifier(bootstrap=True, class_weight='balanced',\n",
       "            criterion='gini', max_depth=27, max_features='auto',\n",
       "            max_leaf_nodes=None, min_impurity_decrease=0.0,\n",
       "            min_impurity_split=None, min_samples_leaf=1,\n",
       "            min_samples_split=2, min_weight_fraction_leaf=0.0,\n",
       "            n_estimators=5, n_jobs=-1, oob_score=False, random_state=None,\n",
       "            verbose=0, warm_start=False)"
      ]
     },
     "execution_count": 15,
     "metadata": {},
     "output_type": "execute_result"
    }
   ],
   "source": [
    "grid.best_estimator_"
   ]
  },
  {
   "cell_type": "code",
   "execution_count": 16,
   "metadata": {},
   "outputs": [
    {
     "data": {
      "text/plain": [
       "0.9811320754716981"
      ]
     },
     "execution_count": 16,
     "metadata": {},
     "output_type": "execute_result"
    }
   ],
   "source": [
    "grid.score(X_train,y_train)"
   ]
  },
  {
   "cell_type": "code",
   "execution_count": 29,
   "metadata": {},
   "outputs": [
    {
     "data": {
      "text/plain": [
       "0.9874213836477987"
      ]
     },
     "execution_count": 29,
     "metadata": {},
     "output_type": "execute_result"
    }
   ],
   "source": [
    "grid.fit(X_test,y_test)\n",
    "grid.score(X_test,y_test)"
   ]
  },
  {
   "cell_type": "code",
   "execution_count": 20,
   "metadata": {},
   "outputs": [
    {
     "data": {
      "text/plain": [
       "['Collaborative Teachers Rating_Not Meeting Target', 'Grade_pre_school']"
      ]
     },
     "execution_count": 20,
     "metadata": {},
     "output_type": "execute_result"
    }
   ],
   "source": [
    "[col for col in X_train.columns if col not in X_test.columns]"
   ]
  },
  {
   "cell_type": "code",
   "execution_count": 21,
   "metadata": {},
   "outputs": [],
   "source": [
    "X_train.drop(['Collaborative Teachers Rating_Not Meeting Target','Grade_pre_school'],axis=1,inplace=True)"
   ]
  },
  {
   "cell_type": "code",
   "execution_count": null,
   "metadata": {},
   "outputs": [],
   "source": []
  }
 ],
 "metadata": {
  "kernelspec": {
   "display_name": "Python [conda env:tensorflow]",
   "language": "python",
   "name": "conda-env-tensorflow-py"
  },
  "language_info": {
   "codemirror_mode": {
    "name": "ipython",
    "version": 3
   },
   "file_extension": ".py",
   "mimetype": "text/x-python",
   "name": "python",
   "nbconvert_exporter": "python",
   "pygments_lexer": "ipython3",
   "version": "3.6.5"
  }
 },
 "nbformat": 4,
 "nbformat_minor": 2
}
