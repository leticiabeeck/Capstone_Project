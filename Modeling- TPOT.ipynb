{
 "cells": [
  {
   "cell_type": "code",
   "execution_count": 2,
   "metadata": {},
   "outputs": [],
   "source": [
    "import pandas as pd\n",
    "import numpy as np"
   ]
  },
  {
   "cell_type": "code",
   "execution_count": 3,
   "metadata": {},
   "outputs": [],
   "source": [
    "df=pd.read_pickle('Cleaned_ed.pkl')"
   ]
  },
  {
   "cell_type": "markdown",
   "metadata": {},
   "source": [
    "# MODELING"
   ]
  },
  {
   "cell_type": "code",
   "execution_count": 4,
   "metadata": {},
   "outputs": [
    {
     "name": "stderr",
     "output_type": "stream",
     "text": [
      "/Users/leticiabeeck/anaconda3/envs/tensorflow/lib/python3.6/importlib/_bootstrap.py:219: RuntimeWarning: numpy.dtype size changed, may indicate binary incompatibility. Expected 96, got 88\n",
      "  return f(*args, **kwds)\n",
      "/Users/leticiabeeck/anaconda3/envs/tensorflow/lib/python3.6/site-packages/h5py/__init__.py:36: FutureWarning: Conversion of the second argument of issubdtype from `float` to `np.floating` is deprecated. In future, it will be treated as `np.float64 == np.dtype(float).type`.\n",
      "  from ._conv import register_converters as _register_converters\n",
      "Using TensorFlow backend.\n"
     ]
    }
   ],
   "source": [
    "from sklearn.model_selection import train_test_split\n",
    "\n",
    "from sklearn.linear_model import LogisticRegression\n",
    "from sklearn.model_selection import KFold, cross_val_score\n",
    "from keras.layers import Dense"
   ]
  },
  {
   "cell_type": "code",
   "execution_count": 5,
   "metadata": {},
   "outputs": [],
   "source": [
    "binary = {'Meeting Target':1,'Exceeding Target':1,\n",
    "           'Not Meeting Target':0,'Approaching Target':0}\n",
    "df['Student Achievement Rating'] = df['Student Achievement Rating'].map(binary)"
   ]
  },
  {
   "cell_type": "code",
   "execution_count": 6,
   "metadata": {},
   "outputs": [
    {
     "data": {
      "text/plain": [
       "1    589\n",
       "0    206\n",
       "Name: Student Achievement Rating, dtype: int64"
      ]
     },
     "execution_count": 6,
     "metadata": {},
     "output_type": "execute_result"
    }
   ],
   "source": [
    "df['Student Achievement Rating'].value_counts()"
   ]
  },
  {
   "cell_type": "markdown",
   "metadata": {},
   "source": [
    "## Train Test Split "
   ]
  },
  {
   "cell_type": "code",
   "execution_count": 7,
   "metadata": {},
   "outputs": [],
   "source": [
    "df['City'] = [value if value in df['City'].value_counts().index[:4] else 'Other' for value in df['City']]"
   ]
  },
  {
   "cell_type": "code",
   "execution_count": 10,
   "metadata": {},
   "outputs": [],
   "source": [
    "cats= ['City', 'Grades',\n",
    "       'Rigorous Instruction Rating', 'Collaborative Teachers Rating',\n",
    "       'Supportive Environment Rating', 'Effective School Leadership Rating',\n",
    "       'Strong Family-Community Ties Rating', 'Trust Rating']\n",
    "df.drop(['School Name', 'Location Code', 'Address (Full)'], axis=1, inplace=True)"
   ]
  },
  {
   "cell_type": "code",
   "execution_count": 11,
   "metadata": {},
   "outputs": [],
   "source": [
    "X = df.drop('Student Achievement Rating',axis=1)\n",
    "y = df['Student Achievement Rating']\n",
    "\n",
    "X_train, X_test, y_train, y_test = train_test_split(X, y, test_size=0.20)\n",
    "\n",
    "\n",
    "X_train = pd.get_dummies(X_train, columns=cats, drop_first=True)\n",
    "X_test = pd.get_dummies(X_test, columns=cats, drop_first=True)"
   ]
  },
  {
   "cell_type": "code",
   "execution_count": 12,
   "metadata": {},
   "outputs": [
    {
     "data": {
      "text/plain": [
       "['Grades_02,03,04,05',\n",
       " 'Grades_03,04,05',\n",
       " 'Grades_03,04,05,06',\n",
       " 'Grades_04,05',\n",
       " 'Grades_04,05,06,07,08',\n",
       " 'Grades_06,07,08',\n",
       " 'Grades_0K,01,02,03,04,05,06,07',\n",
       " 'Grades_0K,01,02,03,04,05,SE',\n",
       " 'Grades_PK,0K,01,02',\n",
       " 'Grades_PK,0K,01,02,03',\n",
       " 'Grades_PK,0K,01,02,03,04',\n",
       " 'Grades_PK,0K,01,02,03,04,05,06,07,08,SE',\n",
       " 'Grades_PK,0K,01,02,03,04,05,07,08']"
      ]
     },
     "execution_count": 12,
     "metadata": {},
     "output_type": "execute_result"
    }
   ],
   "source": [
    "[col for col in X_train.columns if col not in X_test.columns]"
   ]
  },
  {
   "cell_type": "code",
   "execution_count": 13,
   "metadata": {},
   "outputs": [],
   "source": [
    "df['has_preschool'] = df['Grades'].str.contains('PK','0K')\n",
    "df['has_middle_school']=df['Grades'].str.contains('05','06')\n",
    "df['has_junior_high']=df['Grades'].str.contains('07','08')"
   ]
  },
  {
   "cell_type": "code",
   "execution_count": 14,
   "metadata": {},
   "outputs": [
    {
     "data": {
      "text/plain": [
       "0.9823899371069182"
      ]
     },
     "execution_count": 14,
     "metadata": {},
     "output_type": "execute_result"
    }
   ],
   "source": [
    "df['Grades'].str.contains('05','06').mean()"
   ]
  },
  {
   "cell_type": "code",
   "execution_count": 15,
   "metadata": {},
   "outputs": [
    {
     "data": {
      "text/plain": [
       "array(['PK,0K,01,02,03,04,05', 'PK,0K,01,02,03,04,05,06,07,08',\n",
       "       '0K,01,02,03,04,05,06,07,08,09,10,11,12', '0K,01,02,03,04,05',\n",
       "       '0K,01,02,03,04,05,06,07,08', '04,05,06,07,08', '03,04,05',\n",
       "       '0K,01,02,03,04,05,06,07,08,SE', 'PK,0K,01,02,03,04,05,06',\n",
       "       'PK,0K,01,02,03,04,05,SE', 'PK,0K,01,02,03', '04,05',\n",
       "       '0K,01,02,03,04', '0K,01,02,03,04,05,06', 'PK,0K,01,02',\n",
       "       'PK,0K,01,02,03,04', '02,03,04,05', 'PK,0K,01,02,03,04,05,07,08',\n",
       "       'PK,0K,01,02,03,04,05,06,07,08,SE', '06,07,08', '0K',\n",
       "       '03,04,05,06', '0K,01,02,03,04,05,SE', '01,05,06,07,08,K',\n",
       "       '01,02,03,04,05,06,07,08', '0K,01,02,03,04,05,06,07'], dtype=object)"
      ]
     },
     "execution_count": 15,
     "metadata": {},
     "output_type": "execute_result"
    }
   ],
   "source": [
    "df['Grades'].unique()"
   ]
  },
  {
   "cell_type": "markdown",
   "metadata": {},
   "source": [
    "# TPOT Classifier "
   ]
  },
  {
   "cell_type": "code",
   "execution_count": 31,
   "metadata": {},
   "outputs": [],
   "source": [
    "from tpot import TPOTClassifier"
   ]
  },
  {
   "cell_type": "code",
   "execution_count": 43,
   "metadata": {},
   "outputs": [],
   "source": [
    "pipeline_optimizer = TPOTClassifier(generations=1, population_size=20,cv=5, verbosity=2,\n",
    "                      config_dict='TPOT light')"
   ]
  },
  {
   "cell_type": "code",
   "execution_count": 45,
   "metadata": {},
   "outputs": [
    {
     "name": "stderr",
     "output_type": "stream",
     "text": [
      "                                                                            \r"
     ]
    },
    {
     "name": "stdout",
     "output_type": "stream",
     "text": [
      "Generation 1 - Current best internal CV score: 0.7957019044494438\n",
      "\n",
      "Best pipeline: DecisionTreeClassifier(Normalizer(input_matrix, norm=l1), criterion=gini, max_depth=7, min_samples_leaf=20, min_samples_split=3)\n"
     ]
    },
    {
     "data": {
      "text/plain": [
       "TPOTClassifier(config_dict={'sklearn.naive_bayes.GaussianNB': {}, 'sklearn.naive_bayes.BernoulliNB': {'alpha': [0.001, 0.01, 0.1, 1.0, 10.0, 100.0], 'fit_prior': [True, False]}, 'sklearn.naive_bayes.MultinomialNB': {'alpha': [0.001, 0.01, 0.1, 1.0, 10.0, 100.0], 'fit_prior': [True, False]}, 'sklearn.tree.DecisionT...e_selection.VarianceThreshold': {'threshold': [0.0001, 0.0005, 0.001, 0.005, 0.01, 0.05, 0.1, 0.2]}},\n",
       "        crossover_rate=0.1, cv=5, disable_update_check=False,\n",
       "        early_stop=None, generations=1, max_eval_time_mins=5,\n",
       "        max_time_mins=None, memory=None, mutation_rate=0.9, n_jobs=1,\n",
       "        offspring_size=20, periodic_checkpoint_folder=None,\n",
       "        population_size=20, random_state=None, scoring=None, subsample=1.0,\n",
       "        verbosity=2, warm_start=False)"
      ]
     },
     "execution_count": 45,
     "metadata": {},
     "output_type": "execute_result"
    }
   ],
   "source": [
    "pipeline_optimizer.fit(X_train,y_train)"
   ]
  },
  {
   "cell_type": "code",
   "execution_count": null,
   "metadata": {},
   "outputs": [],
   "source": []
  }
 ],
 "metadata": {
  "kernelspec": {
   "display_name": "Python [conda env:tensorflow]",
   "language": "python",
   "name": "conda-env-tensorflow-py"
  },
  "language_info": {
   "codemirror_mode": {
    "name": "ipython",
    "version": 3
   },
   "file_extension": ".py",
   "mimetype": "text/x-python",
   "name": "python",
   "nbconvert_exporter": "python",
   "pygments_lexer": "ipython3",
   "version": "3.6.5"
  }
 },
 "nbformat": 4,
 "nbformat_minor": 2
}
