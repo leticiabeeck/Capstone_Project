{
 "cells": [
  {
   "cell_type": "code",
   "execution_count": 1,
   "metadata": {},
   "outputs": [],
   "source": [
    "import pandas as pd\n",
    "import numpy as np"
   ]
  },
  {
   "cell_type": "code",
   "execution_count": 2,
   "metadata": {},
   "outputs": [],
   "source": [
    "df=pd.read_pickle('Cleaned_ed.pkl')"
   ]
  },
  {
   "cell_type": "markdown",
   "metadata": {},
   "source": [
    "# MODELING- Binary Logistic Regression"
   ]
  },
  {
   "cell_type": "code",
   "execution_count": 3,
   "metadata": {},
   "outputs": [
    {
     "name": "stderr",
     "output_type": "stream",
     "text": [
      "/Users/leticiabeeck/anaconda3/envs/tensorflow/lib/python3.6/site-packages/h5py/__init__.py:36: FutureWarning: Conversion of the second argument of issubdtype from `float` to `np.floating` is deprecated. In future, it will be treated as `np.float64 == np.dtype(float).type`.\n",
      "  from ._conv import register_converters as _register_converters\n",
      "Using TensorFlow backend.\n"
     ]
    }
   ],
   "source": [
    "from sklearn.model_selection import train_test_split\n",
    "\n",
    "from sklearn.linear_model import LogisticRegression\n",
    "from sklearn.model_selection import KFold, cross_val_score\n",
    "from keras.layers import Dense"
   ]
  },
  {
   "cell_type": "code",
   "execution_count": 4,
   "metadata": {},
   "outputs": [],
   "source": [
    "# Create a Binary Logit Model"
   ]
  },
  {
   "cell_type": "code",
   "execution_count": 5,
   "metadata": {},
   "outputs": [
    {
     "data": {
      "text/plain": [
       "Meeting Target        432\n",
       "Approaching Target    204\n",
       "Exceeding Target      157\n",
       "Not Meeting Target      2\n",
       "Name: Student Achievement Rating, dtype: int64"
      ]
     },
     "execution_count": 5,
     "metadata": {},
     "output_type": "execute_result"
    }
   ],
   "source": [
    "df['Student Achievement Rating'].value_counts()"
   ]
  },
  {
   "cell_type": "code",
   "execution_count": 6,
   "metadata": {},
   "outputs": [],
   "source": [
    "binary = {'Meeting Target':1,'Exceeding Target':1,\n",
    "           'Not Meeting Target':0,'Approaching Target':0}\n",
    "df['Student Achievement Rating'] = df['Student Achievement Rating'].map(binary)"
   ]
  },
  {
   "cell_type": "code",
   "execution_count": 7,
   "metadata": {},
   "outputs": [],
   "source": [
    "boolean = {'Not Meeting Target': 1, 'Approaching Target': 2,'Meeting Target':3,\n",
    "           'Exceeding Target':4}\n",
    "df['Trust Rating'] = df['Trust Rating'].map(boolean)\n",
    "df['Rigorous Instruction Rating'] = df['Rigorous Instruction Rating'].map(boolean)\n",
    "df['Collaborative Teachers Rating']=df['Collaborative Teachers Rating'].map(boolean)\n",
    "df['Supportive Environment Rating']=df['Supportive Environment Rating'].map(boolean)\n",
    "df['Effective School Leadership Rating']=df['Effective School Leadership Rating'].map(boolean)\n",
    "df['Strong Family-Community Ties Rating']=df['Strong Family-Community Ties Rating'].map(boolean)"
   ]
  },
  {
   "cell_type": "code",
   "execution_count": 8,
   "metadata": {},
   "outputs": [
    {
     "data": {
      "text/plain": [
       "1    589\n",
       "0    206\n",
       "Name: Student Achievement Rating, dtype: int64"
      ]
     },
     "execution_count": 8,
     "metadata": {},
     "output_type": "execute_result"
    }
   ],
   "source": [
    "df['Student Achievement Rating'].value_counts()"
   ]
  },
  {
   "cell_type": "markdown",
   "metadata": {},
   "source": [
    "## Train Test Split "
   ]
  },
  {
   "cell_type": "code",
   "execution_count": 9,
   "metadata": {},
   "outputs": [],
   "source": [
    "df['City'] = [value if value in df['City'].value_counts().index[:4] else 'Other' for value in df['City']]"
   ]
  },
  {
   "cell_type": "code",
   "execution_count": 10,
   "metadata": {},
   "outputs": [],
   "source": [
    "cats= ['City']\n",
    "df.drop(['School Name', 'Location Code', 'Address (Full)'], axis=1, inplace=True)"
   ]
  },
  {
   "cell_type": "code",
   "execution_count": 11,
   "metadata": {},
   "outputs": [],
   "source": [
    "X = df.drop('Student Achievement Rating',axis=1)\n",
    "y = df['Student Achievement Rating']\n",
    "\n",
    "X_train, X_test, y_train, y_test = train_test_split(X, y, test_size=0.20)\n",
    "\n",
    "\n",
    "X_train = pd.get_dummies(X_train, columns=cats, drop_first=True)\n",
    "X_test = pd.get_dummies(X_test, columns=cats, drop_first=True)"
   ]
  },
  {
   "cell_type": "code",
   "execution_count": 12,
   "metadata": {
    "scrolled": false
   },
   "outputs": [
    {
     "data": {
      "text/plain": [
       "[]"
      ]
     },
     "execution_count": 12,
     "metadata": {},
     "output_type": "execute_result"
    }
   ],
   "source": [
    "[col for col in X_train.columns if col not in X_test.columns]"
   ]
  },
  {
   "cell_type": "code",
   "execution_count": 13,
   "metadata": {},
   "outputs": [],
   "source": [
    "edu_cats = {\n",
    "    \"PK,0K,01,02,03,04,05\"     : \"has_elementary\",\n",
    "    \"PK,0K,01,02,03,04,05,06,07,08\" : \"has_middle_school\",\n",
    "    \"0K,01,02,03,04,05,06,07,08,09,10,11,12\"   : \"has_high_school\",\n",
    "    '0K,01,02,03,04,05': \"has_elementary\",\n",
    "    '0K,01,02,03,04,05,06,07,08':\"has_middle_school\",\n",
    "    '04,05,06,07,08':'has_middle_school',\n",
    "    '03,04,05':'has_elementary',\n",
    "    '0K,01,02,03,04,05,06,07,08,SE':'has_middle_school', \n",
    "    'PK,0K,01,02,03,04,05,06':'has_elementary',\n",
    "    'PK,0K,01,02,03,04,05,SE':'has_elementary',\n",
    "    'PK,0K,01,02,03':'has_elementary', \n",
    "    '04,05':'has_elementary',\n",
    "    '0K,01,02,03,04':'has_elementary', \n",
    "    '0K,01,02,03,04,05,06':'has_elementary', \n",
    "    'PK,0K,01,02':'has_elementary',\n",
    "    'PK,0K,01,02,03,04':'has_elementary', \n",
    "    '02,03,04,05':'has_elementary',\n",
    "    'PK,0K,01,02,03,04,05,07,08':'has_middle_school',\n",
    "    'PK,0K,01,02,03,04,05,06,07,08,SE':'has_middle_school', \n",
    "    '06,07,08':'has_middle_school',\n",
    "    '0K':'pre_school',\n",
    "    '03,04,05,06':'has_elementary',\n",
    "    '0K,01,02,03,04,05,SE':'has_elementary', \n",
    "    '01,05,06,07,08,K':'has_middle_school',\n",
    "    '01,02,03,04,05,06,07,08':'has_middle_school',\n",
    "    '0K,01,02,03,04,05,06,07':'has_middle_school'\n",
    "}\n",
    "\n",
    "X_train['Grade'] = df['Grades'].map(edu_cats)\n",
    "X_test['Grade']=df['Grades'].map(edu_cats)"
   ]
  },
  {
   "cell_type": "code",
   "execution_count": 14,
   "metadata": {},
   "outputs": [
    {
     "data": {
      "text/plain": [
       "array(['has_middle_school', 'has_elementary', 'has_high_school',\n",
       "       'pre_school'], dtype=object)"
      ]
     },
     "execution_count": 14,
     "metadata": {},
     "output_type": "execute_result"
    }
   ],
   "source": [
    "X_train['Grade'].unique()"
   ]
  },
  {
   "cell_type": "code",
   "execution_count": 15,
   "metadata": {},
   "outputs": [],
   "source": [
    "X_train=pd.get_dummies(X_train, columns=['Grade'], drop_first=True)\n",
    "X_test=pd.get_dummies(X_test,columns=['Grade'],drop_first=True)"
   ]
  },
  {
   "cell_type": "code",
   "execution_count": 16,
   "metadata": {},
   "outputs": [],
   "source": [
    "X_train.drop('Grades',axis=1,inplace=True)"
   ]
  },
  {
   "cell_type": "code",
   "execution_count": 17,
   "metadata": {},
   "outputs": [],
   "source": [
    "X_test.drop('Grades',axis=1,inplace=True)"
   ]
  },
  {
   "cell_type": "code",
   "execution_count": 18,
   "metadata": {
    "scrolled": true
   },
   "outputs": [
    {
     "data": {
      "text/plain": [
       "0.7610062893081762"
      ]
     },
     "execution_count": 18,
     "metadata": {},
     "output_type": "execute_result"
    }
   ],
   "source": [
    "lr = LogisticRegression()\n",
    "lr.fit(X_train, y_train)\n",
    "lr.score(X_train, y_train)"
   ]
  },
  {
   "cell_type": "code",
   "execution_count": 19,
   "metadata": {},
   "outputs": [
    {
     "data": {
      "text/plain": [
       "(636, 156)"
      ]
     },
     "execution_count": 19,
     "metadata": {},
     "output_type": "execute_result"
    }
   ],
   "source": [
    "X_train.shape"
   ]
  },
  {
   "cell_type": "code",
   "execution_count": 20,
   "metadata": {},
   "outputs": [
    {
     "data": {
      "text/plain": [
       "(159, 155)"
      ]
     },
     "execution_count": 20,
     "metadata": {},
     "output_type": "execute_result"
    }
   ],
   "source": [
    "X_test.shape"
   ]
  },
  {
   "cell_type": "code",
   "execution_count": 21,
   "metadata": {},
   "outputs": [
    {
     "data": {
      "text/plain": [
       "['Grade_pre_school']"
      ]
     },
     "execution_count": 21,
     "metadata": {},
     "output_type": "execute_result"
    }
   ],
   "source": [
    "[col for col in X_train.columns if col not in X_test.columns]"
   ]
  },
  {
   "cell_type": "code",
   "execution_count": 22,
   "metadata": {},
   "outputs": [],
   "source": [
    "# Drop this since it only contains one observation"
   ]
  },
  {
   "cell_type": "code",
   "execution_count": 23,
   "metadata": {},
   "outputs": [],
   "source": [
    "X_train.drop(['Grade_pre_school'],axis=1,inplace=True)"
   ]
  },
  {
   "cell_type": "code",
   "execution_count": 24,
   "metadata": {},
   "outputs": [
    {
     "data": {
      "text/plain": [
       "0.740880503144654"
      ]
     },
     "execution_count": 24,
     "metadata": {},
     "output_type": "execute_result"
    }
   ],
   "source": [
    "df['Student Achievement Rating'].mean()"
   ]
  },
  {
   "cell_type": "code",
   "execution_count": 25,
   "metadata": {},
   "outputs": [
    {
     "data": {
      "text/plain": [
       "0.8930817610062893"
      ]
     },
     "execution_count": 25,
     "metadata": {},
     "output_type": "execute_result"
    }
   ],
   "source": [
    "lr = LogisticRegression()\n",
    "lr.fit(X_test, y_test)\n",
    "lr.score(X_test, y_test)"
   ]
  },
  {
   "cell_type": "code",
   "execution_count": 26,
   "metadata": {},
   "outputs": [
    {
     "data": {
      "text/plain": [
       "array([[-2.33242270e-02,  1.44729214e-02, -2.02725213e-02,\n",
       "         1.55168527e-04, -2.27894579e-03,  9.22262841e-03,\n",
       "        -7.05053423e-05, -2.18161425e-02,  2.45596849e-02,\n",
       "         8.65416767e-03, -1.87598940e-02, -3.71741143e-02,\n",
       "        -2.34271423e-02,  2.29300040e-02,  2.99956272e-02,\n",
       "         2.31944717e-02,  1.55114348e-02,  0.00000000e+00,\n",
       "         1.77088428e-02, -2.39670854e-02, -9.70137343e-02,\n",
       "         7.38526125e-02,  1.04480630e-04, -3.42174333e-03,\n",
       "        -5.20168451e-02, -3.36725685e-03,  3.06461446e-02,\n",
       "         1.81015062e-02, -1.14567126e-01,  1.08149441e-01,\n",
       "        -6.22375712e-02, -1.09819016e-02,  2.97985519e-04,\n",
       "        -1.12265542e-02,  7.17156188e-02, -3.88190868e-02,\n",
       "         6.32505550e-02,  4.70386171e-03, -2.56767968e-02,\n",
       "         2.04865200e-02,  1.78114798e-02,  3.61786115e-03,\n",
       "         1.34798268e-02,  5.51329628e-03,  6.83508617e-02,\n",
       "         5.13417726e-02,  1.06290904e-01, -8.50793534e-03,\n",
       "        -5.33571283e-02,  1.12323786e-01,  8.79849380e-02,\n",
       "         3.24463405e-02,  9.10525022e-03, -4.65355659e-02,\n",
       "        -4.21933229e-02,  1.29313318e-02,  1.25140993e-01,\n",
       "         1.54060076e-02,  1.99898570e-01, -5.70789935e-02,\n",
       "        -5.43165211e-02,  4.49923806e-02,  0.00000000e+00,\n",
       "         1.11813919e-03,  2.03707923e-01, -6.87791633e-02,\n",
       "        -3.93920966e-02,  0.00000000e+00,  1.19300738e-01,\n",
       "        -7.63805923e-03, -1.37320812e-01, -3.01485445e-02,\n",
       "         0.00000000e+00, -3.27630925e-02, -1.02810890e-01,\n",
       "        -3.30664839e-03, -9.51428149e-02,  0.00000000e+00,\n",
       "        -1.28375666e-01,  2.97037149e-03,  2.93266136e-02,\n",
       "         1.58549794e-02,  0.00000000e+00,  9.71088209e-03,\n",
       "        -1.54517550e-02, -1.05581381e-03,  1.00837082e-01,\n",
       "         0.00000000e+00, -9.28571507e-02,  1.03904875e-01,\n",
       "         3.96947817e-02,  2.10101229e-02,  0.00000000e+00,\n",
       "         2.38422057e-03,  1.33921500e-01, -6.82317220e-02,\n",
       "         1.69954141e-02,  0.00000000e+00, -1.88152241e-02,\n",
       "         5.42125162e-02,  9.29152854e-03, -2.77769602e-02,\n",
       "         0.00000000e+00,  0.00000000e+00,  1.60755601e-02,\n",
       "         1.08947826e-02,  9.86123759e-02,  0.00000000e+00,\n",
       "        -1.18350653e-02,  4.28740131e-02,  1.71660321e-02,\n",
       "         3.62406826e-02,  0.00000000e+00,  0.00000000e+00,\n",
       "         2.09192270e-02,  2.63188509e-02,  8.72408323e-02,\n",
       "         0.00000000e+00, -8.95798333e-02,  4.72284383e-02,\n",
       "         2.27538824e-02,  4.42013299e-02,  0.00000000e+00,\n",
       "         1.94000542e-05, -8.98435849e-03,  5.98908281e-03,\n",
       "         8.91491101e-02,  0.00000000e+00, -2.54526305e-02,\n",
       "         3.70158720e-02,  1.52029793e-02,  3.43672403e-02,\n",
       "         0.00000000e+00,  5.88129945e-03, -1.75915400e-02,\n",
       "        -1.48577639e-03,  2.10564212e-04,  2.33977387e-03,\n",
       "        -1.65844489e-03, -5.93765794e-04, -8.15565109e-04,\n",
       "        -8.61538586e-03,  1.36399267e-03, -7.27964839e-03,\n",
       "        -9.07962114e-04,  1.46279907e-02, -4.42402079e-03,\n",
       "         3.13277150e-03,  2.13837646e-02, -1.78663689e-02,\n",
       "        -4.39542755e-03, -3.77019881e-04,  9.73379078e-03,\n",
       "         6.04817765e-03,  8.10029565e-03]])"
      ]
     },
     "execution_count": 26,
     "metadata": {},
     "output_type": "execute_result"
    }
   ],
   "source": [
    "lr.coef_"
   ]
  },
  {
   "cell_type": "code",
   "execution_count": 44,
   "metadata": {},
   "outputs": [],
   "source": [
    "results=pd.DataFrame(list(zip(X_train.columns,lr.coef_[0])))"
   ]
  },
  {
   "cell_type": "code",
   "execution_count": 28,
   "metadata": {},
   "outputs": [
    {
     "data": {
      "text/html": [
       "<div>\n",
       "<style scoped>\n",
       "    .dataframe tbody tr th:only-of-type {\n",
       "        vertical-align: middle;\n",
       "    }\n",
       "\n",
       "    .dataframe tbody tr th {\n",
       "        vertical-align: top;\n",
       "    }\n",
       "\n",
       "    .dataframe thead th {\n",
       "        text-align: right;\n",
       "    }\n",
       "</style>\n",
       "<table border=\"1\" class=\"dataframe\">\n",
       "  <thead>\n",
       "    <tr style=\"text-align: right;\">\n",
       "      <th></th>\n",
       "      <th>0</th>\n",
       "      <th>1</th>\n",
       "    </tr>\n",
       "  </thead>\n",
       "  <tbody>\n",
       "    <tr>\n",
       "      <th>70</th>\n",
       "      <td>Grade 5 Math 4s - Asian or Pacific Islander</td>\n",
       "      <td>-0.137321</td>\n",
       "    </tr>\n",
       "    <tr>\n",
       "      <th>78</th>\n",
       "      <td>Grade 6 ELA 4s - Black or African American</td>\n",
       "      <td>-0.128376</td>\n",
       "    </tr>\n",
       "    <tr>\n",
       "      <th>28</th>\n",
       "      <td>Grade 3 Math 4s - Black or African American</td>\n",
       "      <td>-0.114567</td>\n",
       "    </tr>\n",
       "    <tr>\n",
       "      <th>74</th>\n",
       "      <td>Grade 5 Math 4s - Economically Disadvantaged</td>\n",
       "      <td>-0.102811</td>\n",
       "    </tr>\n",
       "    <tr>\n",
       "      <th>20</th>\n",
       "      <td>Grade 3 ELA 4s - Asian or Pacific Islander</td>\n",
       "      <td>-0.097014</td>\n",
       "    </tr>\n",
       "    <tr>\n",
       "      <th>76</th>\n",
       "      <td>Grade 6 ELA 4s - All Students</td>\n",
       "      <td>-0.095143</td>\n",
       "    </tr>\n",
       "    <tr>\n",
       "      <th>88</th>\n",
       "      <td>Grade 6 Math 4s - Black or African American</td>\n",
       "      <td>-0.092857</td>\n",
       "    </tr>\n",
       "    <tr>\n",
       "      <th>118</th>\n",
       "      <td>Grade 8 ELA 4s - Black or African American</td>\n",
       "      <td>-0.089580</td>\n",
       "    </tr>\n",
       "    <tr>\n",
       "      <th>65</th>\n",
       "      <td>Grade 5 Math - All Students Tested</td>\n",
       "      <td>-0.068779</td>\n",
       "    </tr>\n",
       "    <tr>\n",
       "      <th>95</th>\n",
       "      <td>Grade 7 ELA - All Students Tested</td>\n",
       "      <td>-0.068232</td>\n",
       "    </tr>\n",
       "  </tbody>\n",
       "</table>\n",
       "</div>"
      ],
      "text/plain": [
       "                                                0         1\n",
       "70    Grade 5 Math 4s - Asian or Pacific Islander -0.137321\n",
       "78     Grade 6 ELA 4s - Black or African American -0.128376\n",
       "28    Grade 3 Math 4s - Black or African American -0.114567\n",
       "74   Grade 5 Math 4s - Economically Disadvantaged -0.102811\n",
       "20     Grade 3 ELA 4s - Asian or Pacific Islander -0.097014\n",
       "76                  Grade 6 ELA 4s - All Students -0.095143\n",
       "88    Grade 6 Math 4s - Black or African American -0.092857\n",
       "118    Grade 8 ELA 4s - Black or African American -0.089580\n",
       "65             Grade 5 Math - All Students Tested -0.068779\n",
       "95              Grade 7 ELA - All Students Tested -0.068232"
      ]
     },
     "execution_count": 28,
     "metadata": {},
     "output_type": "execute_result"
    }
   ],
   "source": [
    "results.sort_values(by=1)[0:10]"
   ]
  },
  {
   "cell_type": "code",
   "execution_count": 41,
   "metadata": {
    "scrolled": false
   },
   "outputs": [
    {
     "data": {
      "text/html": [
       "<div>\n",
       "<style scoped>\n",
       "    .dataframe tbody tr th:only-of-type {\n",
       "        vertical-align: middle;\n",
       "    }\n",
       "\n",
       "    .dataframe tbody tr th {\n",
       "        vertical-align: top;\n",
       "    }\n",
       "\n",
       "    .dataframe thead th {\n",
       "        text-align: right;\n",
       "    }\n",
       "</style>\n",
       "<table border=\"1\" class=\"dataframe\">\n",
       "  <thead>\n",
       "    <tr style=\"text-align: right;\">\n",
       "      <th></th>\n",
       "      <th>0</th>\n",
       "      <th>1</th>\n",
       "    </tr>\n",
       "  </thead>\n",
       "  <tbody>\n",
       "    <tr>\n",
       "      <th>64</th>\n",
       "      <td>Grade 5 ELA 4s - Economically Disadvantaged</td>\n",
       "      <td>0.203708</td>\n",
       "    </tr>\n",
       "    <tr>\n",
       "      <th>58</th>\n",
       "      <td>Grade 5 ELA 4s - Black or African American</td>\n",
       "      <td>0.199899</td>\n",
       "    </tr>\n",
       "    <tr>\n",
       "      <th>94</th>\n",
       "      <td>Grade 6 Math 4s - Economically Disadvantaged</td>\n",
       "      <td>0.133921</td>\n",
       "    </tr>\n",
       "    <tr>\n",
       "      <th>56</th>\n",
       "      <td>Grade 5 ELA 4s - All Students</td>\n",
       "      <td>0.125141</td>\n",
       "    </tr>\n",
       "    <tr>\n",
       "      <th>68</th>\n",
       "      <td>Grade 5 Math 4s - Black or African American</td>\n",
       "      <td>0.119301</td>\n",
       "    </tr>\n",
       "    <tr>\n",
       "      <th>49</th>\n",
       "      <td>Grade 4 Math 4s - Hispanic or Latino</td>\n",
       "      <td>0.112324</td>\n",
       "    </tr>\n",
       "    <tr>\n",
       "      <th>29</th>\n",
       "      <td>Grade 3 Math 4s - Hispanic or Latino</td>\n",
       "      <td>0.108149</td>\n",
       "    </tr>\n",
       "    <tr>\n",
       "      <th>46</th>\n",
       "      <td>Grade 4 Math 4s - All Students</td>\n",
       "      <td>0.106291</td>\n",
       "    </tr>\n",
       "    <tr>\n",
       "      <th>89</th>\n",
       "      <td>Grade 6 Math 4s - Hispanic or Latino</td>\n",
       "      <td>0.103905</td>\n",
       "    </tr>\n",
       "    <tr>\n",
       "      <th>86</th>\n",
       "      <td>Grade 6 Math 4s - All Students</td>\n",
       "      <td>0.100837</td>\n",
       "    </tr>\n",
       "    <tr>\n",
       "      <th>106</th>\n",
       "      <td>Grade 7 Math 4s - All Students</td>\n",
       "      <td>0.098612</td>\n",
       "    </tr>\n",
       "    <tr>\n",
       "      <th>126</th>\n",
       "      <td>Grade 8 Math 4s - All Students</td>\n",
       "      <td>0.089149</td>\n",
       "    </tr>\n",
       "    <tr>\n",
       "      <th>50</th>\n",
       "      <td>Grade 4 Math 4s - Asian or Pacific Islander</td>\n",
       "      <td>0.087985</td>\n",
       "    </tr>\n",
       "    <tr>\n",
       "      <th>116</th>\n",
       "      <td>Grade 8 ELA 4s - All Students</td>\n",
       "      <td>0.087241</td>\n",
       "    </tr>\n",
       "    <tr>\n",
       "      <th>21</th>\n",
       "      <td>Grade 3 ELA 4s - White</td>\n",
       "      <td>0.073853</td>\n",
       "    </tr>\n",
       "    <tr>\n",
       "      <th>34</th>\n",
       "      <td>Grade 3 Math 4s - Economically Disadvantaged</td>\n",
       "      <td>0.071716</td>\n",
       "    </tr>\n",
       "    <tr>\n",
       "      <th>44</th>\n",
       "      <td>Grade 4 ELA 4s - Economically Disadvantaged</td>\n",
       "      <td>0.068351</td>\n",
       "    </tr>\n",
       "    <tr>\n",
       "      <th>36</th>\n",
       "      <td>Grade 4 ELA 4s - All Students</td>\n",
       "      <td>0.063251</td>\n",
       "    </tr>\n",
       "    <tr>\n",
       "      <th>99</th>\n",
       "      <td>Grade 7 ELA 4s - Hispanic or Latino</td>\n",
       "      <td>0.054213</td>\n",
       "    </tr>\n",
       "    <tr>\n",
       "      <th>45</th>\n",
       "      <td>Grade 4 Math - All Students Tested</td>\n",
       "      <td>0.051342</td>\n",
       "    </tr>\n",
       "    <tr>\n",
       "      <th>119</th>\n",
       "      <td>Grade 8 ELA 4s - Hispanic or Latino</td>\n",
       "      <td>0.047228</td>\n",
       "    </tr>\n",
       "    <tr>\n",
       "      <th>61</th>\n",
       "      <td>Grade 5 ELA 4s - White</td>\n",
       "      <td>0.044992</td>\n",
       "    </tr>\n",
       "    <tr>\n",
       "      <th>121</th>\n",
       "      <td>Grade 8 ELA 4s - White</td>\n",
       "      <td>0.044201</td>\n",
       "    </tr>\n",
       "    <tr>\n",
       "      <th>109</th>\n",
       "      <td>Grade 7 Math 4s - Hispanic or Latino</td>\n",
       "      <td>0.042874</td>\n",
       "    </tr>\n",
       "    <tr>\n",
       "      <th>90</th>\n",
       "      <td>Grade 6 Math 4s - Asian or Pacific Islander</td>\n",
       "      <td>0.039695</td>\n",
       "    </tr>\n",
       "    <tr>\n",
       "      <th>129</th>\n",
       "      <td>Grade 8 Math 4s - Hispanic or Latino</td>\n",
       "      <td>0.037016</td>\n",
       "    </tr>\n",
       "    <tr>\n",
       "      <th>111</th>\n",
       "      <td>Grade 7 Math 4s - White</td>\n",
       "      <td>0.036241</td>\n",
       "    </tr>\n",
       "    <tr>\n",
       "      <th>131</th>\n",
       "      <td>Grade 8 Math 4s - White</td>\n",
       "      <td>0.034367</td>\n",
       "    </tr>\n",
       "    <tr>\n",
       "      <th>51</th>\n",
       "      <td>Grade 4 Math 4s - White</td>\n",
       "      <td>0.032446</td>\n",
       "    </tr>\n",
       "    <tr>\n",
       "      <th>26</th>\n",
       "      <td>Grade 3 Math 4s - All Students</td>\n",
       "      <td>0.030646</td>\n",
       "    </tr>\n",
       "    <tr>\n",
       "      <th>...</th>\n",
       "      <td>...</td>\n",
       "      <td>...</td>\n",
       "    </tr>\n",
       "    <tr>\n",
       "      <th>2</th>\n",
       "      <td>Longitude</td>\n",
       "      <td>-0.020273</td>\n",
       "    </tr>\n",
       "    <tr>\n",
       "      <th>7</th>\n",
       "      <td>Rigorous Instruction Rating</td>\n",
       "      <td>-0.021816</td>\n",
       "    </tr>\n",
       "    <tr>\n",
       "      <th>0</th>\n",
       "      <td>District</td>\n",
       "      <td>-0.023324</td>\n",
       "    </tr>\n",
       "    <tr>\n",
       "      <th>12</th>\n",
       "      <td>Trust Rating</td>\n",
       "      <td>-0.023427</td>\n",
       "    </tr>\n",
       "    <tr>\n",
       "      <th>19</th>\n",
       "      <td>Grade 3 ELA 4s - Hispanic or Latino</td>\n",
       "      <td>-0.023967</td>\n",
       "    </tr>\n",
       "    <tr>\n",
       "      <th>128</th>\n",
       "      <td>Grade 8 Math 4s - Black or African American</td>\n",
       "      <td>-0.025453</td>\n",
       "    </tr>\n",
       "    <tr>\n",
       "      <th>38</th>\n",
       "      <td>Grade 4 ELA 4s - Black or African American</td>\n",
       "      <td>-0.025677</td>\n",
       "    </tr>\n",
       "    <tr>\n",
       "      <th>101</th>\n",
       "      <td>Grade 7 ELA 4s - White</td>\n",
       "      <td>-0.027777</td>\n",
       "    </tr>\n",
       "    <tr>\n",
       "      <th>71</th>\n",
       "      <td>Grade 5 Math 4s - White</td>\n",
       "      <td>-0.030149</td>\n",
       "    </tr>\n",
       "    <tr>\n",
       "      <th>73</th>\n",
       "      <td>Grade 5 Math 4s - Limited English Proficient</td>\n",
       "      <td>-0.032763</td>\n",
       "    </tr>\n",
       "    <tr>\n",
       "      <th>11</th>\n",
       "      <td>Strong Family-Community Ties Rating</td>\n",
       "      <td>-0.037174</td>\n",
       "    </tr>\n",
       "    <tr>\n",
       "      <th>35</th>\n",
       "      <td>Grade 4 ELA - All Students Tested</td>\n",
       "      <td>-0.038819</td>\n",
       "    </tr>\n",
       "    <tr>\n",
       "      <th>66</th>\n",
       "      <td>Grade 5 Math 4s - All Students</td>\n",
       "      <td>-0.039392</td>\n",
       "    </tr>\n",
       "    <tr>\n",
       "      <th>54</th>\n",
       "      <td>Grade 4 Math 4s - Economically Disadvantaged</td>\n",
       "      <td>-0.042193</td>\n",
       "    </tr>\n",
       "    <tr>\n",
       "      <th>53</th>\n",
       "      <td>Grade 4 Math 4s - Limited English Proficient</td>\n",
       "      <td>-0.046536</td>\n",
       "    </tr>\n",
       "    <tr>\n",
       "      <th>24</th>\n",
       "      <td>Grade 3 ELA 4s - Economically Disadvantaged</td>\n",
       "      <td>-0.052017</td>\n",
       "    </tr>\n",
       "    <tr>\n",
       "      <th>48</th>\n",
       "      <td>Grade 4 Math 4s - Black or African American</td>\n",
       "      <td>-0.053357</td>\n",
       "    </tr>\n",
       "    <tr>\n",
       "      <th>60</th>\n",
       "      <td>Grade 5 ELA 4s - Asian or Pacific Islander</td>\n",
       "      <td>-0.054317</td>\n",
       "    </tr>\n",
       "    <tr>\n",
       "      <th>59</th>\n",
       "      <td>Grade 5 ELA 4s - Hispanic or Latino</td>\n",
       "      <td>-0.057079</td>\n",
       "    </tr>\n",
       "    <tr>\n",
       "      <th>30</th>\n",
       "      <td>Grade 3 Math 4s - Asian or Pacific Islander</td>\n",
       "      <td>-0.062238</td>\n",
       "    </tr>\n",
       "    <tr>\n",
       "      <th>95</th>\n",
       "      <td>Grade 7 ELA - All Students Tested</td>\n",
       "      <td>-0.068232</td>\n",
       "    </tr>\n",
       "    <tr>\n",
       "      <th>65</th>\n",
       "      <td>Grade 5 Math - All Students Tested</td>\n",
       "      <td>-0.068779</td>\n",
       "    </tr>\n",
       "    <tr>\n",
       "      <th>118</th>\n",
       "      <td>Grade 8 ELA 4s - Black or African American</td>\n",
       "      <td>-0.089580</td>\n",
       "    </tr>\n",
       "    <tr>\n",
       "      <th>88</th>\n",
       "      <td>Grade 6 Math 4s - Black or African American</td>\n",
       "      <td>-0.092857</td>\n",
       "    </tr>\n",
       "    <tr>\n",
       "      <th>76</th>\n",
       "      <td>Grade 6 ELA 4s - All Students</td>\n",
       "      <td>-0.095143</td>\n",
       "    </tr>\n",
       "    <tr>\n",
       "      <th>20</th>\n",
       "      <td>Grade 3 ELA 4s - Asian or Pacific Islander</td>\n",
       "      <td>-0.097014</td>\n",
       "    </tr>\n",
       "    <tr>\n",
       "      <th>74</th>\n",
       "      <td>Grade 5 Math 4s - Economically Disadvantaged</td>\n",
       "      <td>-0.102811</td>\n",
       "    </tr>\n",
       "    <tr>\n",
       "      <th>28</th>\n",
       "      <td>Grade 3 Math 4s - Black or African American</td>\n",
       "      <td>-0.114567</td>\n",
       "    </tr>\n",
       "    <tr>\n",
       "      <th>78</th>\n",
       "      <td>Grade 6 ELA 4s - Black or African American</td>\n",
       "      <td>-0.128376</td>\n",
       "    </tr>\n",
       "    <tr>\n",
       "      <th>70</th>\n",
       "      <td>Grade 5 Math 4s - Asian or Pacific Islander</td>\n",
       "      <td>-0.137321</td>\n",
       "    </tr>\n",
       "  </tbody>\n",
       "</table>\n",
       "<p>155 rows × 2 columns</p>\n",
       "</div>"
      ],
      "text/plain": [
       "                                                0         1\n",
       "64    Grade 5 ELA 4s - Economically Disadvantaged  0.203708\n",
       "58     Grade 5 ELA 4s - Black or African American  0.199899\n",
       "94   Grade 6 Math 4s - Economically Disadvantaged  0.133921\n",
       "56                  Grade 5 ELA 4s - All Students  0.125141\n",
       "68    Grade 5 Math 4s - Black or African American  0.119301\n",
       "49           Grade 4 Math 4s - Hispanic or Latino  0.112324\n",
       "29           Grade 3 Math 4s - Hispanic or Latino  0.108149\n",
       "46                 Grade 4 Math 4s - All Students  0.106291\n",
       "89           Grade 6 Math 4s - Hispanic or Latino  0.103905\n",
       "86                 Grade 6 Math 4s - All Students  0.100837\n",
       "106                Grade 7 Math 4s - All Students  0.098612\n",
       "126                Grade 8 Math 4s - All Students  0.089149\n",
       "50    Grade 4 Math 4s - Asian or Pacific Islander  0.087985\n",
       "116                 Grade 8 ELA 4s - All Students  0.087241\n",
       "21                         Grade 3 ELA 4s - White  0.073853\n",
       "34   Grade 3 Math 4s - Economically Disadvantaged  0.071716\n",
       "44    Grade 4 ELA 4s - Economically Disadvantaged  0.068351\n",
       "36                  Grade 4 ELA 4s - All Students  0.063251\n",
       "99            Grade 7 ELA 4s - Hispanic or Latino  0.054213\n",
       "45             Grade 4 Math - All Students Tested  0.051342\n",
       "119           Grade 8 ELA 4s - Hispanic or Latino  0.047228\n",
       "61                         Grade 5 ELA 4s - White  0.044992\n",
       "121                        Grade 8 ELA 4s - White  0.044201\n",
       "109          Grade 7 Math 4s - Hispanic or Latino  0.042874\n",
       "90    Grade 6 Math 4s - Asian or Pacific Islander  0.039695\n",
       "129          Grade 8 Math 4s - Hispanic or Latino  0.037016\n",
       "111                       Grade 7 Math 4s - White  0.036241\n",
       "131                       Grade 8 Math 4s - White  0.034367\n",
       "51                        Grade 4 Math 4s - White  0.032446\n",
       "26                 Grade 3 Math 4s - All Students  0.030646\n",
       "..                                            ...       ...\n",
       "2                                       Longitude -0.020273\n",
       "7                     Rigorous Instruction Rating -0.021816\n",
       "0                                        District -0.023324\n",
       "12                                   Trust Rating -0.023427\n",
       "19            Grade 3 ELA 4s - Hispanic or Latino -0.023967\n",
       "128   Grade 8 Math 4s - Black or African American -0.025453\n",
       "38     Grade 4 ELA 4s - Black or African American -0.025677\n",
       "101                        Grade 7 ELA 4s - White -0.027777\n",
       "71                        Grade 5 Math 4s - White -0.030149\n",
       "73   Grade 5 Math 4s - Limited English Proficient -0.032763\n",
       "11            Strong Family-Community Ties Rating -0.037174\n",
       "35              Grade 4 ELA - All Students Tested -0.038819\n",
       "66                 Grade 5 Math 4s - All Students -0.039392\n",
       "54   Grade 4 Math 4s - Economically Disadvantaged -0.042193\n",
       "53   Grade 4 Math 4s - Limited English Proficient -0.046536\n",
       "24    Grade 3 ELA 4s - Economically Disadvantaged -0.052017\n",
       "48    Grade 4 Math 4s - Black or African American -0.053357\n",
       "60     Grade 5 ELA 4s - Asian or Pacific Islander -0.054317\n",
       "59            Grade 5 ELA 4s - Hispanic or Latino -0.057079\n",
       "30    Grade 3 Math 4s - Asian or Pacific Islander -0.062238\n",
       "95              Grade 7 ELA - All Students Tested -0.068232\n",
       "65             Grade 5 Math - All Students Tested -0.068779\n",
       "118    Grade 8 ELA 4s - Black or African American -0.089580\n",
       "88    Grade 6 Math 4s - Black or African American -0.092857\n",
       "76                  Grade 6 ELA 4s - All Students -0.095143\n",
       "20     Grade 3 ELA 4s - Asian or Pacific Islander -0.097014\n",
       "74   Grade 5 Math 4s - Economically Disadvantaged -0.102811\n",
       "28    Grade 3 Math 4s - Black or African American -0.114567\n",
       "78     Grade 6 ELA 4s - Black or African American -0.128376\n",
       "70    Grade 5 Math 4s - Asian or Pacific Islander -0.137321\n",
       "\n",
       "[155 rows x 2 columns]"
      ]
     },
     "execution_count": 41,
     "metadata": {},
     "output_type": "execute_result"
    }
   ],
   "source": [
    "results.sort_values(by=1,ascending=False)"
   ]
  },
  {
   "cell_type": "markdown",
   "metadata": {},
   "source": [
    "**The DataFrame above shows the features that have a strong correlation with Student Achievement**"
   ]
  },
  {
   "cell_type": "code",
   "execution_count": null,
   "metadata": {},
   "outputs": [],
   "source": []
  }
 ],
 "metadata": {
  "kernelspec": {
   "display_name": "Python [conda env:tensorflow]",
   "language": "python",
   "name": "conda-env-tensorflow-py"
  },
  "language_info": {
   "codemirror_mode": {
    "name": "ipython",
    "version": 3
   },
   "file_extension": ".py",
   "mimetype": "text/x-python",
   "name": "python",
   "nbconvert_exporter": "python",
   "pygments_lexer": "ipython3",
   "version": "3.6.5"
  }
 },
 "nbformat": 4,
 "nbformat_minor": 2
}
